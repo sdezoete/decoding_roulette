{
 "cells": [
  {
   "cell_type": "markdown",
   "id": "c7fd5fb2",
   "metadata": {},
   "source": [
    "# Decoding Gambling\n",
    "\n",
    "<h4>with python code</h4>"
   ]
  },
  {
   "cell_type": "markdown",
   "id": "1a56430f",
   "metadata": {},
   "source": [
    "This notebook is for entertainment and understanding scientific concepts. The concepts and ideas are applied using python code. Laws, formulas and equations are broken down in easy to understand code and visualizations.\n",
    "\n",
    "In this series of notebooks you will find the following titles:\n",
    "* decoding the Soul with python code\n",
    "* decoding Evolution with python code\n",
    "* decoding Human Tribes with python code\n",
    "* decoding the Universe with python code\n",
    "* decoding the Stock Exchange with python code\n",
    "* decoding Gambling with python code, <i>card counting included</i>\n",
    "* decoding <i>put your request in the comments</i>\n",
    "\n",
    "If you have any suggestions, questions, and/or code improvements, please let me know in the comments. \n",
    "\n",
    "Enjoy."
   ]
  },
  {
   "cell_type": "markdown",
   "id": "b18a83d2",
   "metadata": {},
   "source": [
    "## Introduction"
   ]
  },
  {
   "cell_type": "markdown",
   "id": "799dc55b",
   "metadata": {},
   "source": [
    "Casino's, lotteries, betting shops, online gambling sites, gambling apps, slots aka \"one arm bandits\", bingo's, people just love to give their money away. This notebook shows you how and why it's impossible to win! Several betting strategies are shown and tested as well how \"the house always wins\" by using counter measures to them."
   ]
  },
  {
   "cell_type": "markdown",
   "id": "279dc46b",
   "metadata": {},
   "source": [
    "## 1. Let's flip a coin"
   ]
  },
  {
   "cell_type": "markdown",
   "id": "6358a2fe",
   "metadata": {},
   "source": [
    "Starting with a simple game of flipping a coin. The coin is perfectly balanced, so each side has an equal change, 50%, to appear. I'm \"heads\" and my friend is \"tails\".\n",
    "\n",
    "Every round we bet 1 dollar, I brought 5 dollars and my friend brought 5 dollars. The game ends when all money is won.\n",
    "\n",
    "Let's simulate 1000 games under these conditions with some code."
   ]
  },
  {
   "cell_type": "code",
   "execution_count": null,
   "id": "f4f62e48",
   "metadata": {},
   "outputs": [],
   "source": [
    "import random\n",
    "import math\n",
    "from decimal import Decimal\n",
    "import numpy as np\n",
    "import matplotlib.pyplot as plt\n",
    "%matplotlib inline"
   ]
  },
  {
   "cell_type": "code",
   "execution_count": null,
   "id": "8122c7eb",
   "metadata": {},
   "outputs": [],
   "source": [
    "def flip_the_coin():\n",
    "    # head = 1, tail = 0\n",
    "    outcome = random.randint(0, 1)\n",
    "    return outcome\n",
    "\n",
    "def play_flip_a_coin(number_of_games, \n",
    "                     money_player_1,\n",
    "                     money_player_2,\n",
    "                     bet\n",
    "                    ):\n",
    "    wins_p1 = 0 \n",
    "    wins_p2 = 0\n",
    "    money_won_p1 = 0 \n",
    "    money_won_p2 = 0\n",
    "    # number of games for simulation\n",
    "    for game in range(number_of_games):\n",
    "        # initialize game variables, in this case player's money\n",
    "        money_p1 = money_player_1\n",
    "        money_p2 = money_player_2\n",
    "        # play until a player is out of money\n",
    "        while (money_p1 > 0) and (money_p2 > 0):\n",
    "            if flip_the_coin(): # player 1 wins this round\n",
    "                money_p1 += bet\n",
    "                money_p2 -= bet\n",
    "            else: # player 2 wins this round\n",
    "                money_p1 -= bet\n",
    "                money_p2 += bet\n",
    "            \n",
    "        # keeping score count number of wins and money for both players over all games  \n",
    "        if (money_p1 > 0): # player 1 won the game\n",
    "            wins_p1 += 1\n",
    "            money_won_p1 += money_player_2\n",
    "        else: # player 2 won the game\n",
    "            wins_p2 += 1\n",
    "            money_won_p2 += money_player_1\n",
    "    \n",
    "    return wins_p1, wins_p2, money_won_p1, money_won_p2"
   ]
  },
  {
   "cell_type": "code",
   "execution_count": null,
   "id": "1147bb0a",
   "metadata": {},
   "outputs": [],
   "source": [
    "number_of_games = 1000 # number of games simulated\n",
    "money_player_1 = 5 # dollars player 1, me\n",
    "money_player_2 = 5 # dollars player 2, my friend\n",
    "bet = 1 # dollar(s) bet per round"
   ]
  },
  {
   "cell_type": "code",
   "execution_count": null,
   "id": "6473d1d9",
   "metadata": {},
   "outputs": [],
   "source": [
    "wins_p1, wins_p2, money_won_p1, money_won_p2 = play_flip_a_coin(number_of_games, \n",
    "                                                                money_player_1,\n",
    "                                                                money_player_2,\n",
    "                                                                bet\n",
    "                                                               )\n",
    "\n",
    "print(f'I won {wins_p1} times, my friend won {wins_p2} times.')\n",
    "print(f'I won {money_won_p1} USD, my friend won {money_won_p2} USD.')"
   ]
  },
  {
   "cell_type": "markdown",
   "id": "a58ef264",
   "metadata": {},
   "source": [
    "If you try this several times, you will find that it's not really surprising that the wins are about 50-50. Let's do this again, but my friend starts with 10 dollars and I start with 5 dollars. Any bets on who will win now?"
   ]
  },
  {
   "cell_type": "code",
   "execution_count": null,
   "id": "b7bd3077",
   "metadata": {},
   "outputs": [],
   "source": [
    "number_of_games = 1000 # number of games simulated\n",
    "money_player_1 = 5 # dollars player 1\n",
    "money_player_2 = 10 # dollars player 2\n",
    "bet = 1 # dollar(s) bet per round"
   ]
  },
  {
   "cell_type": "code",
   "execution_count": null,
   "id": "17c83586",
   "metadata": {},
   "outputs": [],
   "source": [
    "wins_p1, wins_p2, money_won_p1, money_won_p2 = play_flip_a_coin(number_of_games, \n",
    "                                                                money_player_1,\n",
    "                                                                money_player_2,\n",
    "                                                                bet\n",
    "                                                               )\n",
    "\n",
    "print(f'I won {wins_p1} times, my friend won {wins_p2} times.')\n",
    "print(f'I won {money_won_p1} USD, my friend won {money_won_p2} USD.')"
   ]
  },
  {
   "cell_type": "markdown",
   "id": "195cbb62",
   "metadata": {},
   "source": [
    "Overall, my friend wins more often. However, we both make the same \"profit\". Although I came with less money, it's still about 50-50 in total amount of money won. \n",
    "\n",
    "Question is, will this continue? \n",
    "\n",
    "Let's do a graph and see the wins in \"money won\" and \"number of wins\". Also, we increase the number of games (10,000) to get a more 'precise' estimate. Well actually, the graph also looks smoother, so it's easier to understand what's going on.\n",
    "\n",
    "Note: the 10,000 games could also mean 10,000 people playing a single game against a casino, more about that later.\n",
    "\n",
    "Anyways."
   ]
  },
  {
   "cell_type": "code",
   "execution_count": null,
   "id": "57f81e36",
   "metadata": {},
   "outputs": [],
   "source": [
    "number_of_games = 10000\n",
    "money_player_1 = 5 # dollars player 1\n",
    "money_range_player_2 = [5, 10, 15, 20, 25, 30, 35, 40, 45, 50, 55, 60, 65, 70, 75, 80, 85, 90, 95, 100] # dollars player 2\n",
    "bet = 1"
   ]
  },
  {
   "cell_type": "code",
   "execution_count": null,
   "id": "4f161551",
   "metadata": {},
   "outputs": [],
   "source": [
    "def get_x_y_values_flip_a_coin(number_of_games, money_player_1, money_range_player_2, bet):\n",
    "    x_money_player_2 = []\n",
    "    y_wins_p1 = [] \n",
    "    y_wins_p2 = []\n",
    "    y_money_won_p1 = [] \n",
    "    y_money_won_p2 = []\n",
    "    for money_player_2 in money_range_player_2: \n",
    "        wins_p1, wins_p2, money_won_p1, money_won_p2 = play_flip_a_coin(number_of_games, \n",
    "                                                                money_player_1,\n",
    "                                                                money_player_2,\n",
    "                                                                bet\n",
    "                                                               )\n",
    "        x_money_player_2.append(money_player_2)\n",
    "        y_wins_p1.append(wins_p1)\n",
    "        y_wins_p2.append(wins_p2)\n",
    "        y_money_won_p1.append(money_won_p1)\n",
    "        y_money_won_p2.append(money_won_p2)\n",
    "    return x_money_player_2, y_wins_p1, y_wins_p2, y_money_won_p1, y_money_won_p2"
   ]
  },
  {
   "cell_type": "code",
   "execution_count": null,
   "id": "6e9deac7",
   "metadata": {},
   "outputs": [],
   "source": [
    "def plot_flip_a_coin(x_money_player_2, y_wins_p1, y_wins_p2, y_money_won_p1, y_money_won_p2):\n",
    "    # create figure and axis objects with subplots()\n",
    "    fig,ax = plt.subplots()\n",
    "    # make a plot\n",
    "    lns0 = ax.plot(x_money_player_2,\n",
    "                    y_wins_p1,\n",
    "                    color=\"red\", \n",
    "                    marker=\"o\",\n",
    "                    label=\"games won by me\")\n",
    "    # set x-axis label\n",
    "    ax.set_xlabel(\"start amount player 2\", fontsize = 10)\n",
    "    # set y-axis label\n",
    "    ax.set_ylabel(\"wins\",\n",
    "                  color=\"red\",\n",
    "                  fontsize=14)\n",
    "    ax1 = ax\n",
    "    lns1 = ax1.plot(x_money_player_2,\n",
    "                    y_wins_p2,\n",
    "                    color=\"red\", \n",
    "                    marker=\"x\",\n",
    "                    label=\"games won by friend\")\n",
    "    # twin object for two different y-axis on the sample plot\n",
    "    ax2=ax.twinx()\n",
    "    # make a plot with different y-axis using second axis object\n",
    "    lns2 = ax2.plot(x_money_player_2, y_money_won_p1, color=\"blue\",\n",
    "                     marker=\"o\", label=\"amount won by me\")\n",
    "    ax2.set_ylabel(\"money won\",color=\"blue\",fontsize=14)\n",
    "    ax3 = ax2\n",
    "    lns3 = ax3.plot(x_money_player_2, y_money_won_p2, color=\"blue\",\n",
    "                     marker=\"x\", label=\"amount won by friend\")\n",
    "    # Create a legend at the bottom of the graph \n",
    "    # Shrink current axis's height by 10% on the bottom\n",
    "    box = ax.get_position()\n",
    "    ax.set_position([box.x0, box.y0 + box.height * 0.2,\n",
    "                     box.width, box.height * 0.8])\n",
    "\n",
    "    # Put a legend below current axis\n",
    "    # added these three lines\n",
    "    lns = lns0+lns1+lns2+lns3\n",
    "    labs = [l.get_label() for l in lns]\n",
    "    #ax.legend(lns, labs, loc=0)\n",
    "    \n",
    "    ax.legend(lns, labs, loc='upper center', bbox_to_anchor=(0.5, -0.15),\n",
    "              fancybox=True, shadow=True, ncol=5)\n",
    "    plt.show()"
   ]
  },
  {
   "cell_type": "code",
   "execution_count": null,
   "id": "9a4a1142",
   "metadata": {},
   "outputs": [],
   "source": [
    "def show_flip_a_coin(number_of_games, money_player_1, money_range_player_2, bet):\n",
    "    x_money_player_2, y_wins_p1, y_wins_p2, y_money_won_p1, y_money_won_p2 = get_x_y_values_flip_a_coin(number_of_games, \n",
    "                                                                                                        money_player_1, \n",
    "                                                                                                        money_range_player_2, \n",
    "                                                                                                        bet)\n",
    "    plot_flip_a_coin(x_money_player_2, y_wins_p1, y_wins_p2, y_money_won_p1, y_money_won_p2)\n",
    "    return\n",
    "        "
   ]
  },
  {
   "cell_type": "code",
   "execution_count": null,
   "id": "fad4c175",
   "metadata": {},
   "outputs": [],
   "source": [
    "# Be patient, might take some time (2 minutes max.)\n",
    "show_flip_a_coin(number_of_games, money_player_1, money_range_player_2, bet)"
   ]
  },
  {
   "cell_type": "markdown",
   "id": "25ae9ce7",
   "metadata": {},
   "source": [
    "Although more erratic and losing more and more games, the money made by me is still similar as my friend made.\n",
    "\n",
    "Hence, 50-50 games are not making any money in the end for either player. Hence, there needs to be a rule or play in favor of the casino to make it worth their time and effort."
   ]
  },
  {
   "cell_type": "markdown",
   "id": "ea2a882f",
   "metadata": {},
   "source": [
    "## 2. Tipping the scale"
   ]
  },
  {
   "cell_type": "markdown",
   "id": "26b41d34",
   "metadata": {},
   "source": [
    "Let's play roulette. Roulette could have been a 50-50 game, if not for the single 0 and double 00. This makes already the difference and a few more rules, as we will discover.\n",
    "\n",
    "<i>Roulette game formats</i>\n",
    "\n",
    "* The AMERICAN format has 38 numbers, 1 to 36 and single 0 and double 00. \n",
    "* The EUROPEAN format has 37 numbers, 1 to 36 and single 0. \n",
    "\n",
    "We base the analysis on the American format, hence the winning odds for the single numbers are 1 to 38, please look closely to the payout scheme below with this in mind.\n",
    "\n",
    "Note, if you want to repeat this for European format, just change the <code>get_outside_bets</code> function (code provided).\n",
    "\n",
    "<h4>In roulette we have the following bets and payouts based on the American format, which inlcudes a single 0 and a double 00</h4>\n",
    "<table>\n",
    "    <tr>\n",
    "        <th>Bet</th>\t\n",
    "        <th>Bet Nickname</th>\t\n",
    "        <th>Payout*</th>\t\n",
    "        <th>Winning Odds</th>\n",
    "        <th>House Fee</th> \n",
    "    </tr>\n",
    "    <tr>\n",
    "        <td>Single number bet</td><td>straight up</td><td>pays 35 to 1</td><td>odds 38 to 1</td><td>2</td>\n",
    "    </tr>\n",
    "    <tr>\n",
    "        <td>Double number bet</td><td>split</td><td>pays 17 to 1</td><td>odds 19 to 1</td><td>1</td>\n",
    "    </tr>\n",
    "    <tr>\n",
    "        <td>Three number bet</td><td>street</td><td>pays 11 to 1</td><td>odds 12.67 to 1</td><td>.67</td>\n",
    "    </tr>\n",
    "    <tr>\n",
    "        <td>Four number bet</td><td>corner bet</td><td>pays 8 to 1</td><td>odds 9.5 to 1</td><td>.5</td>\n",
    "    </tr>\n",
    "    <tr>\n",
    "        <td>Five number bet</td><td>one specific bet 0-00-1-2-3</td><td>pays 6 to 1</td><td>odds 7.6 to 1</td><td>.6</td>\n",
    "    </tr>\n",
    "    <tr>\n",
    "        <td>Six number bet</td><td>a line</td><td>pays 5 to 1</td><td>odds 6.33 to 1</td><td>.33</td>\n",
    "    </tr>\n",
    "    <tr>\n",
    "        <td>Twelve number bet</td><td> dozens (first, second, third dozen)</td><td>pays 2 to 1</td><td>odds 3.17 to 1</td><td>.17</td>\n",
    "    </tr>\n",
    "    <tr>\n",
    "        <td>Column bet</td><td>12 numbers in a row</td><td>pays 2 to 1</td><td>odds 3.17 to 1</td><td>.17</td>\n",
    "    </tr>\n",
    "    <tr>\n",
    "        <td>18 numbers</td><td>Low (1-18) or High (19-36) bets</td><td>pays 1 to 1</td><td>odds 2.11 to 1</td><td>.11</td>\n",
    "    </tr>\n",
    "    <tr>\n",
    "        <td>Red or black</td><td>Red or black</td><td>pays 1 to 1</td><td>odds 2.11 to 1</td><td>.11</td>\n",
    "    </tr>\n",
    "    <tr>\n",
    "        <td>Odd or even</td><td>Odd or even</td><td>pays 1 to 1</td><td>odds 2.11 to 1</td><td>.11</td>\n",
    "    </tr>\n",
    "</table>\n",
    "<i>*You get your money back as well, so payout 35 to 1, you receive 36 usd back.</i>\n",
    "\n",
    "Check for more rules and bets: https://www.venetianlasvegas.com/casino/table-games/roulette-basic-rules.html#:~:text=A%20player%20may%20bet%20on,for%201%2C%20or%20even%20money."
   ]
  },
  {
   "cell_type": "markdown",
   "id": "43ac3c0b",
   "metadata": {},
   "source": [
    "The table shows that under normal circumstances, the payout is not 'fair'...unlike our coin game.\n",
    "\n",
    "There are many books on winning 'strategies' for roulette. I'm sure they are all commissioned by the casino's as I can garantee, they won't matter, as we will find out soon. So, let's explore the top three roulette strategies. They are introduced below."
   ]
  },
  {
   "cell_type": "markdown",
   "id": "e8b789b3",
   "metadata": {},
   "source": [
    "#### The Martingale System\n",
    "The Martingale system is the most popular and commonly used strategy in online Roulette. The concept behind the strategy is quite simple – you increase your bets after every loss, so when you eventually win, you get your lost money back. After this, you start betting with the initial amount again.\n",
    "\n",
    "The most effective way to use the Martingale system is to only bet on even-money outside bets – [1-18 versus 19-36], [Red versus Black], and [Even versus Odd]. \n",
    "\n",
    "The outside bets in Roulette have almost 50% chance of winning, but they offer the lowest payout of all – 1:1. This means that you win the same amount of money you bet for the spin.\n",
    "The Martingale system seems quite logical and fairly simple to implement. However, many seasoned players don’t like it very much. The Martingale is rather risky, and you’re essentially betting big to win small. And there is a risk of losing a huge amount of money while using this system.\n",
    "\n",
    "#### D’Alembert system\n",
    "Like the Martingale system, the D’Alembert system is based on bets placed on even-money areas of the table. However, instead of doubling the stake after a losing bet, as in the Martingale, one unit is added to the player’s stake. After a win, the stake decreases by one unit.\n",
    "Let’s assume you place a base unit stake of £1. If the bet loses, the next wager is £2. If that loses, the next bet becomes £3, and so on. If you manage to win the £3 bet, your following bet will drop to £2.\n",
    "One of the biggest advantages of this system is that it keeps a handle on your streaks, at least in the short term. You’re not doubling your wager after each loss, as in the Martingale, and things do even out if you win as many spins as you lose.\n",
    "\n",
    "#### The Fibonacci system\n",
    "The Fibonacci system is one of the safest Roulette strategies, especially when you compare it with other progressive methods like the Martingale. Despite the fact that it’s quite safe to use, the Fibonacci still has the potential to bring you some wins.\n",
    "This strategy is based on the popular Fibonacci numbers – a sequence where the next number you get equals the sum of the previous two. The sequence looks like:\n",
    "1 – 1 – 2 – 3 – 5 – 8 – 13 – 21 – 34 – 55 – 89 – 144 – 233 – 377 – 610 – 987\n",
    "In the game of Roulette, the Fibonacci system involves betting by adding the last two bets together. By doing so, you can leave with a profit even if you lose more games than you win.\n",
    "\n",
    "Taken from: https://www.telemediaonline.co.uk/the-top-3-winning-strategies-for-roulette/"
   ]
  },
  {
   "cell_type": "markdown",
   "id": "8944e0f0",
   "metadata": {},
   "source": [
    "#### The Martingale system \n",
    "The Martingale system in python code means that we bet with an initial amount. If we win we put it aside and start over again with an initial amount. If we lose, we keep doubling the amount, until we win, then we start over again. Brilliant...a monkey could think of this.\n",
    "\n",
    "Anyways, let's code!"
   ]
  },
  {
   "cell_type": "code",
   "execution_count": null,
   "id": "10a9dc2b",
   "metadata": {},
   "outputs": [],
   "source": [
    "# outside bets: red/black, odd/even, and low(1-18)/high(19-36). \n",
    "def get_outside_bets():\n",
    "    #dumb down to 18 out of 38\n",
    "    outcome = 0 # Loss\n",
    "    result = random.randint(1, 38) # American format\n",
    "    #result = random.randint(1, 37) # European format\n",
    "    if result <= 18: # Win\n",
    "        outcome = 1\n",
    "    return outcome\n"
   ]
  },
  {
   "cell_type": "markdown",
   "id": "d7afbc9b",
   "metadata": {},
   "source": [
    "#### When do we stop?\n",
    "\n",
    "Well, we all know the answer to the question: \"how much money is enough?\". The answer is always: \"More money!\". \n",
    "\n",
    "We could break the bank of the casino with our strategy. BUT let's not be too greedy and give others also the opportunity, hence we introduce a stop factor, <code>win_stop_factor</code>. For example, <code>win_stop_factor</code> of 2 means, we stop when we doubled our money, 3 means we stop when we triple our money and so on.\n",
    "\n",
    "Anyways, let's go and win big time with this brilliant strategy."
   ]
  },
  {
   "cell_type": "code",
   "execution_count": null,
   "id": "c1851fa1",
   "metadata": {},
   "outputs": [],
   "source": [
    "def play_martingale(number_of_games, initial_amount, total_amount, win_stop_factor):\n",
    "    \n",
    "    # start number of simulations/games\n",
    "    win_amount_per_game = [] # keep track of our wins\n",
    "    for i in range(number_of_games):\n",
    "        # initialize game values\n",
    "        total_amount_to_bet = total_amount\n",
    "        bet = initial_amount\n",
    "        win_amount = 0\n",
    "        total_amount_to_bet -= bet\n",
    "        \n",
    "        # start a game loop\n",
    "        # stopping condition: if we can't bet anymore or have the amount we are after\n",
    "        while (bet > 0) and (total_amount_to_bet <= total_amount * win_stop_factor):\n",
    "            outcome = get_outside_bets()\n",
    "            if outcome: # WIN\n",
    "                # we add the bet and the payout = 2*bet value to our cash\n",
    "                total_amount_to_bet += bet*2\n",
    "                # start over with initial amount\n",
    "                bet = initial_amount\n",
    "            else: # LOSS\n",
    "                # double our bet\n",
    "                bet = bet * 2\n",
    "                # check if we have enough funds, otherwise bet what we have\n",
    "                if bet > total_amount_to_bet:\n",
    "                    bet = total_amount_to_bet   \n",
    "            # take bet amount from our cash\n",
    "            total_amount_to_bet -= bet\n",
    "        \n",
    "        # game result\n",
    "        if total_amount_to_bet > 0: # we won what we were aiming for!\n",
    "            win_amount = total_amount_to_bet - total_amount\n",
    "        else:\n",
    "            win_amount = -total_amount # we lost our money!\n",
    "            \n",
    "        win_amount_per_game.append(win_amount)\n",
    "        \n",
    "    return win_amount_per_game"
   ]
  },
  {
   "cell_type": "code",
   "execution_count": null,
   "id": "622e6836",
   "metadata": {},
   "outputs": [],
   "source": [
    "# Game Initialization\n",
    "number_of_games = 10000 # simulations or individual players\n",
    "initial_amount = 200 # USD, start bet for player\n",
    "total_amount = 5000 # USD, total money we bring that evening\n",
    "win_stop_factor = 2 #stop when we win x times the total_amount"
   ]
  },
  {
   "cell_type": "code",
   "execution_count": null,
   "id": "6837f7a0",
   "metadata": {},
   "outputs": [],
   "source": [
    "win_amounts = play_martingale(number_of_games, initial_amount, total_amount, win_stop_factor)\n",
    "print(f'player average win {sum(win_amounts)/len(win_amounts)} USD.')\n",
    "print(f'casino winnings after {number_of_games} games is {int(number_of_games * (-sum(win_amounts)/len(win_amounts)))} USD.')"
   ]
  },
  {
   "cell_type": "markdown",
   "id": "2f432523",
   "metadata": {},
   "source": [
    "Well, here are two rules, which are introduced by the casino's to ensure a bigger win for the casino...is bigger loss for us:\n",
    "1. Minimum bet\n",
    "2. Maximum bet, often maximum bet is equal/less 10x minimum bet\n",
    "\n",
    "Hence, our little 'doubling' scheme will bust very quickly. Let's implement these rules and then create a nice graph of the games. \n",
    "\n",
    "We will copy the function <code>play_martingale</code> and add <code>min_bet</code> and <code>max_bet</code>, only a few minor changes."
   ]
  },
  {
   "cell_type": "code",
   "execution_count": null,
   "id": "627de8a9",
   "metadata": {},
   "outputs": [],
   "source": [
    "def play_martingale_bet_limits(number_of_games, initial_amount, total_amount, win_stop_factor, min_bet, max_bet):\n",
    "    \n",
    "    # start number of simulations/games\n",
    "    win_amount_per_game = []\n",
    "    for i in range(number_of_games):\n",
    "        # initialize game values\n",
    "        total_amount_to_bet = total_amount\n",
    "        bet = min_bet\n",
    "        win_amount = 0\n",
    "        total_amount_to_bet -= bet\n",
    "        # start a game\n",
    "        while (bet > 0) and (total_amount_to_bet <= total_amount * win_stop_factor):\n",
    "            outcome = get_outside_bets()\n",
    "            if outcome: # WIN\n",
    "                total_amount_to_bet += bet*2\n",
    "                # minimum bet is our starting bet\n",
    "                bet = min_bet\n",
    "            else: # LOSS\n",
    "                bet = bet * 2\n",
    "                # check maximum limit\n",
    "                if bet > max_bet:\n",
    "                    bet = max_bet\n",
    "                # check if we have enough funds, otherwise bet what we have\n",
    "                if bet > total_amount_to_bet:\n",
    "                    bet = total_amount_to_bet                    \n",
    "            total_amount_to_bet -= bet\n",
    "        \n",
    "        # game result\n",
    "        if total_amount_to_bet > 0:\n",
    "            win_amount = total_amount_to_bet - total_amount\n",
    "        else:\n",
    "            win_amount = -total_amount\n",
    "            \n",
    "        win_amount_per_game.append(win_amount)\n",
    "        \n",
    "    return win_amount_per_game"
   ]
  },
  {
   "cell_type": "code",
   "execution_count": null,
   "id": "06a473a1",
   "metadata": {},
   "outputs": [],
   "source": [
    "# Game Initialization\n",
    "number_of_games = 10000\n",
    "initial_amount = 200\n",
    "total_amount = 5000 #USD\n",
    "win_stop_factor = 2 #stop when we win x times the total_amount\n",
    "min_bet = 200\n",
    "max_bet = 2000"
   ]
  },
  {
   "cell_type": "code",
   "execution_count": null,
   "id": "049b059f",
   "metadata": {},
   "outputs": [],
   "source": [
    "win_amounts = play_martingale_bet_limits(number_of_games, initial_amount, total_amount, win_stop_factor, min_bet, max_bet)\n",
    "print(f'player average win {sum(win_amounts)/len(win_amounts)} USD.')\n",
    "print(f'casino winnings after {number_of_games} games is {int(number_of_games * (-sum(win_amounts)/len(win_amounts)))} USD.')"
   ]
  },
  {
   "cell_type": "markdown",
   "id": "9ef64737",
   "metadata": {},
   "source": [
    "We can play around with the numbers a bit, but let's see this in a graph. I also like to point out that the so called <code>win_stop_factor</code>, could easily be renamed to 'greed_factor'. We will see how that might influence the outcomes, \"not knowing when to stop!\".\n",
    "\n",
    "Also, the initial_amount doesn't matter, we start with the minimal bet amount, <code>min_bet</code>.\n",
    "\n",
    "Our first graph, we will change the <code>min_bet/max_bet</code> ratio and see what the effect is on the average win/lose for the 'customer'. So, we start with <code>max_bet</code> is equal <code>min_bet</code>, then <code>max_bet</code> is twice <code>min_bet</code>, and so on."
   ]
  },
  {
   "cell_type": "code",
   "execution_count": null,
   "id": "3fa0132c",
   "metadata": {},
   "outputs": [],
   "source": [
    "def graph_bet_limit_ratio(number_of_games, initial_amount, total_amount, win_stop_factor, min_bet, max_ratio):\n",
    "    x_values = []\n",
    "    y_values = []\n",
    "    for i in range(max_ratio):\n",
    "        max_bet = min_bet * (i+1)\n",
    "        win_amounts = play_martingale_bet_limits(number_of_games, initial_amount, \n",
    "                                                 total_amount, win_stop_factor, \n",
    "                                                 min_bet, max_bet)\n",
    "        x_values.append(i+1)\n",
    "        win_average = sum(win_amounts)/len(win_amounts)\n",
    "        y_values.append(win_average)\n",
    "    # create figure and axis objects with subplots()\n",
    "    fig,ax = plt.subplots()\n",
    "    # make a plot\n",
    "    ax.plot(x_values,\n",
    "            y_values,\n",
    "            color=\"blue\", \n",
    "            marker=\"o\")\n",
    "    # set x-axis label\n",
    "    ax.set_xlabel(\"ratio min/max bet\", fontsize = 10)\n",
    "    # set y-axis label\n",
    "    ax.set_ylabel(\"average win amount customer\", fontsize=10)\n",
    "    plt.show() "
   ]
  },
  {
   "cell_type": "code",
   "execution_count": null,
   "id": "979c50e1",
   "metadata": {},
   "outputs": [],
   "source": [
    "# Game Initialization\n",
    "number_of_games = 100\n",
    "initial_amount = 200\n",
    "total_amount = 5000 #USD\n",
    "win_stop_factor = 2 #stop when we win x times the total_amount\n",
    "min_bet = 200\n",
    "max_ratio = 10"
   ]
  },
  {
   "cell_type": "code",
   "execution_count": null,
   "id": "ef08c24d",
   "metadata": {},
   "outputs": [],
   "source": [
    "graph_bet_limit_ratio(number_of_games, initial_amount, total_amount, win_stop_factor, min_bet, max_ratio)"
   ]
  },
  {
   "cell_type": "markdown",
   "id": "e5f9762d",
   "metadata": {},
   "source": [
    "Well, it's clear that a lower ratio, is a higher profit for the casino! \n",
    "\n",
    "Maybe we shouldn't stop at twice the winnings? Let's get greedy here and see what happens.\n",
    "\n",
    "Anyways, we will extend the <code>graph_bet_limit_ratio</code> and refactor the functions a bit."
   ]
  },
  {
   "cell_type": "code",
   "execution_count": null,
   "id": "5d4be678",
   "metadata": {},
   "outputs": [],
   "source": [
    "def draw_graphs(l_x_values, l_y_values, l_line_labels):\n",
    "    # create figure and axis objects with subplots()\n",
    "    fig,ax = plt.subplots()\n",
    "    # line coloring, stored in a listtype colors\n",
    "    n = len(l_x_values)\n",
    "    colors = plt.cm.jet(np.linspace(0,1,n))\n",
    "    i = 0\n",
    "    for x_values, y_values, line_label in zip(l_x_values, l_y_values, l_line_labels):\n",
    "        # make a plot\n",
    "        ax.plot(x_values,\n",
    "                y_values,\n",
    "                #color=\"red\", \n",
    "                color=colors[i],\n",
    "                marker=\"o\",\n",
    "                label=line_label\n",
    "               )\n",
    "        i += 1\n",
    "    # set x-axis label\n",
    "    ax.set_xlabel(\"ratio min/max bet\", fontsize = 10)\n",
    "    # set y-axis label\n",
    "    ax.set_ylabel(\"average win amount customer\",\n",
    "                  #color=\"red\",\n",
    "                  fontsize=10)\n",
    "    \n",
    "    # Create a legend at the bottom of the graph \n",
    "    # Shrink current axis's height by 10% on the bottom\n",
    "    box = ax.get_position()\n",
    "    ax.set_position([box.x0, box.y0 + box.height * 0.2,\n",
    "                     box.width, box.height * 0.8])\n",
    "\n",
    "    # Put a legend below current axis\n",
    "    ax.legend(loc='upper center', bbox_to_anchor=(0.5, -0.15),\n",
    "              fancybox=True, shadow=True, ncol=5)\n",
    "    \n",
    "    plt.show()"
   ]
  },
  {
   "cell_type": "code",
   "execution_count": null,
   "id": "b5946b1e",
   "metadata": {},
   "outputs": [],
   "source": [
    "def get_win_average(number_of_games, initial_amount, total_amount, win_stop_factor, min_bet, max_bet):\n",
    "    win_amounts = play_martingale_bet_limits(number_of_games, initial_amount, \n",
    "                                             total_amount, win_stop_factor, \n",
    "                                             min_bet, max_bet)\n",
    "    win_average = sum(win_amounts)/len(win_amounts)\n",
    "    return win_average"
   ]
  },
  {
   "cell_type": "code",
   "execution_count": null,
   "id": "1b2bc402",
   "metadata": {},
   "outputs": [],
   "source": [
    "def get_graph_values(number_of_games, initial_amount, total_amount, min_bet, max_ratio, max_greed):\n",
    "    l_x_values = []\n",
    "    l_y_values = []\n",
    "    l_line_labels = []\n",
    "    step_ratio = int(max_ratio / 10) #maximum 10 measures for readability\n",
    "    for mg in range(max_greed-1):\n",
    "        x_values = []\n",
    "        y_values = []\n",
    "        win_stop_factor = mg + 2\n",
    "        for i in range(1, max_ratio, step_ratio):\n",
    "            max_bet = min_bet * (i+1)\n",
    "            \n",
    "            x_values.append(i+1)\n",
    "            win_average = get_win_average(number_of_games, initial_amount, total_amount, win_stop_factor, min_bet, max_bet)\n",
    "            y_values.append(win_average)\n",
    "            \n",
    "        l_x_values.append(x_values)\n",
    "        l_y_values.append(y_values)\n",
    "        l_line_labels.append(f'greed factor {win_stop_factor}')\n",
    "    return l_x_values, l_y_values, l_line_labels"
   ]
  },
  {
   "cell_type": "code",
   "execution_count": null,
   "id": "faf565de",
   "metadata": {},
   "outputs": [],
   "source": [
    "def graph_bet_limit_ratio_greed(number_of_games, initial_amount, total_amount,\n",
    "                                  min_bet, max_ratio, max_greed):\n",
    "    \n",
    "    l_x_values, l_y_values, l_line_labels = get_graph_values(number_of_games, initial_amount, total_amount, \n",
    "                                                             min_bet, max_ratio, max_greed)\n",
    "    draw_graphs(l_x_values, l_y_values, l_line_labels)"
   ]
  },
  {
   "cell_type": "code",
   "execution_count": null,
   "id": "3d1c68f2",
   "metadata": {},
   "outputs": [],
   "source": [
    "# Game Initialization\n",
    "number_of_games = 100\n",
    "initial_amount = 200\n",
    "total_amount = 5000 #USD\n",
    "min_bet = 200\n",
    "max_ratio = 10 # betting ratio from min bet : max bet, in example 200 min : 200 max, 200 : 400, 200 : 600 and so on.\n",
    "max_greed = 10 # win_stop_factor, starting at 2 up to X, in this example 10. You can change as you like"
   ]
  },
  {
   "cell_type": "code",
   "execution_count": null,
   "id": "75b2d84a",
   "metadata": {},
   "outputs": [],
   "source": [
    "graph_bet_limit_ratio_greed(number_of_games, initial_amount, total_amount, min_bet, max_ratio, max_greed)"
   ]
  },
  {
   "cell_type": "markdown",
   "id": "e1070621",
   "metadata": {},
   "source": [
    "That's really colorful, right? \n",
    "\n",
    "Anyways, it's clear that the greedier you are, the less likely you will win anything. In the end the house always wins!\n",
    "\n",
    "<i>Quote: \"I'm on a roll, I was 100,000 USD up, so can I borrow 2,000 just to get back there?\" - CasinoKing</i>\n",
    "\n",
    "The only bank we are breaking is our own...let's try the next strategy."
   ]
  },
  {
   "cell_type": "markdown",
   "id": "c18f22fc",
   "metadata": {},
   "source": [
    "#### D’Alembert system\n",
    "The D’Alembert system also uses the outside bets. \n",
    "\n",
    "1. after a losing bet, one unit is added to the player’s stake. \n",
    "2. after a win, the stake decreases by one unit. \n",
    "\n",
    "We choose the base unit being equal to the minimum bet. Let's code."
   ]
  },
  {
   "cell_type": "code",
   "execution_count": null,
   "id": "272cb46c",
   "metadata": {},
   "outputs": [],
   "source": [
    "def play_D_Alembert_bet_limits(number_of_games, initial_amount, total_amount, win_stop_factor, min_bet, max_bet):\n",
    "    \n",
    "    # start number of simulations/games\n",
    "    win_amount_per_game = []\n",
    "    for i in range(number_of_games):\n",
    "        # initialize game values\n",
    "        total_amount_to_bet = total_amount\n",
    "        bet = min_bet\n",
    "        win_amount = 0\n",
    "        total_amount_to_bet -= bet\n",
    "        # start a game\n",
    "        while (bet > 0) and (total_amount_to_bet <= total_amount * win_stop_factor):\n",
    "            outcome = get_outside_bets()\n",
    "            if outcome: # WIN\n",
    "                total_amount_to_bet += bet*2\n",
    "                # minimum bet\n",
    "                bet = bet - min_bet\n",
    "                # check if we were already on minimum bet\n",
    "                if bet <= 0:\n",
    "                    bet = min_bet\n",
    "            else: # LOSS\n",
    "                # one unit up, when we lose\n",
    "                bet = bet + min_bet\n",
    "                # check maximum limit\n",
    "                if bet > max_bet:\n",
    "                    bet = max_bet\n",
    "                # check if we have enough funds, otherwise bet what we have\n",
    "                if bet > total_amount_to_bet:\n",
    "                    bet = total_amount_to_bet                    \n",
    "            total_amount_to_bet -= bet\n",
    "        \n",
    "        # game result\n",
    "        if total_amount_to_bet > 0:\n",
    "            win_amount = total_amount_to_bet - total_amount\n",
    "        else:\n",
    "            win_amount = -total_amount\n",
    "            \n",
    "        win_amount_per_game.append(win_amount)\n",
    "        \n",
    "    return win_amount_per_game"
   ]
  },
  {
   "cell_type": "markdown",
   "id": "35534e4a",
   "metadata": {},
   "source": [
    "Let's overwrite the <code>get_win_average</code>...lazy bugger, should actually refactor this. :)"
   ]
  },
  {
   "cell_type": "code",
   "execution_count": null,
   "id": "8e1e2fee",
   "metadata": {},
   "outputs": [],
   "source": [
    "def get_win_average(number_of_games, initial_amount, total_amount, win_stop_factor, min_bet, max_bet):\n",
    "    win_amounts = play_D_Alembert_bet_limits(number_of_games, initial_amount, \n",
    "                                                 total_amount, win_stop_factor, \n",
    "                                                 min_bet, max_bet)\n",
    "    win_average = sum(win_amounts)/len(win_amounts)\n",
    "    return win_average"
   ]
  },
  {
   "cell_type": "code",
   "execution_count": null,
   "id": "14643b23",
   "metadata": {},
   "outputs": [],
   "source": [
    "# Game Initialization\n",
    "number_of_games = 100\n",
    "initial_amount = 200\n",
    "total_amount = 5000 #USD\n",
    "min_bet = 200\n",
    "max_ratio = 10\n",
    "max_greed = 10"
   ]
  },
  {
   "cell_type": "code",
   "execution_count": null,
   "id": "1231668f",
   "metadata": {},
   "outputs": [],
   "source": [
    "graph_bet_limit_ratio_greed(number_of_games, initial_amount, total_amount, min_bet, max_ratio, max_greed)"
   ]
  },
  {
   "cell_type": "markdown",
   "id": "eac25572",
   "metadata": {},
   "source": [
    "Sigh...no joy here. Well, there is always the Fibonacci system."
   ]
  },
  {
   "cell_type": "markdown",
   "id": "ae05b25d",
   "metadata": {},
   "source": [
    "#### The Fibonacci system\n",
    "The Fibonacci sequence looks like:\n",
    "1 – 1 – 2 – 3 – 5 – 8 – 13 – 21 – 34 – 55 – 89 – 144 – 233 – 377 – 610 – 987\n",
    "\n",
    "I love this statement:\n",
    "<i>\"In the game of Roulette, the Fibonacci system involves betting by adding the last two bets together. By doing so, you can leave with a profit even if you lose more games than you win.\"</i>\n",
    "\n",
    "Let's see...\n",
    "\n",
    "Note: for simplicity, when running out of money to increase the bet, we use all the cash we have."
   ]
  },
  {
   "cell_type": "code",
   "execution_count": null,
   "id": "37473d84",
   "metadata": {},
   "outputs": [],
   "source": [
    "def play_Fibonacci_bet_limits(number_of_games, initial_amount, total_amount, win_stop_factor, min_bet, max_bet):\n",
    "    \n",
    "    # start number of simulations/games\n",
    "    win_amount_per_game = []\n",
    "    for i in range(number_of_games):\n",
    "        # initialize game values\n",
    "        total_amount_to_bet = total_amount\n",
    "        bet = min_bet\n",
    "        win_amount = 0\n",
    "        total_amount_to_bet -= bet\n",
    "        previous_bet = 0\n",
    "        current_bet = bet\n",
    "        # start a game\n",
    "        while (bet > 0) and (total_amount_to_bet <= total_amount * win_stop_factor):\n",
    "            outcome = get_outside_bets()\n",
    "            if outcome: # WIN\n",
    "                total_amount_to_bet += bet*2\n",
    "                bet = min_bet\n",
    "                current_bet = bet\n",
    "                previous_bet = 0\n",
    "            else:   \n",
    "            # fibonacci bet\n",
    "                bet = previous_bet + current_bet\n",
    "                previous_bet = current_bet\n",
    "                current_bet = bet\n",
    "                \n",
    "            if bet > total_amount_to_bet:\n",
    "                bet = total_amount_to_bet\n",
    "            total_amount_to_bet -= bet\n",
    "        # game result\n",
    "        if total_amount_to_bet > 0:\n",
    "            win_amount = total_amount_to_bet - total_amount\n",
    "        else:\n",
    "            win_amount = -total_amount\n",
    "            \n",
    "        win_amount_per_game.append(win_amount)\n",
    "        \n",
    "    return win_amount_per_game"
   ]
  },
  {
   "cell_type": "markdown",
   "id": "0f965461",
   "metadata": {},
   "source": [
    "Yeah, you guessed it right...sorry, can't be bothered right now."
   ]
  },
  {
   "cell_type": "code",
   "execution_count": null,
   "id": "419f4b1b",
   "metadata": {},
   "outputs": [],
   "source": [
    "def get_win_average(number_of_games, initial_amount, total_amount, win_stop_factor, min_bet, max_bet):\n",
    "    win_amounts = play_Fibonacci_bet_limits(number_of_games, initial_amount, \n",
    "                                                 total_amount, win_stop_factor, \n",
    "                                                 min_bet, max_bet)\n",
    "    win_average = sum(win_amounts)/len(win_amounts)\n",
    "    return win_average"
   ]
  },
  {
   "cell_type": "code",
   "execution_count": null,
   "id": "e6e6bca0",
   "metadata": {},
   "outputs": [],
   "source": [
    "# Game Initialization\n",
    "number_of_games = 100\n",
    "initial_amount = 200\n",
    "total_amount = 5000 #USD\n",
    "min_bet = 200\n",
    "max_ratio = 10\n",
    "max_greed = 10"
   ]
  },
  {
   "cell_type": "code",
   "execution_count": null,
   "id": "5158ab80",
   "metadata": {},
   "outputs": [],
   "source": [
    "graph_bet_limit_ratio_greed(number_of_games, initial_amount, total_amount, min_bet, max_ratio, max_greed)"
   ]
  },
  {
   "cell_type": "markdown",
   "id": "895e2555",
   "metadata": {},
   "source": [
    "Let's recall that statement again: <i>In the game of Roulette, the Fibonacci system involves betting by adding the last two bets together. By doing so, you can leave with a profit even if you lose more games than you win.</i>\n",
    "\n",
    "Maybe I just didn't understand it???? It's worse than the other two!\n",
    "\n",
    "Anyways...next."
   ]
  },
  {
   "cell_type": "markdown",
   "id": "38834599",
   "metadata": {},
   "source": [
    "#### Are these strategies better than how my monkey Max would play?"
   ]
  },
  {
   "cell_type": "markdown",
   "id": "29b389f3",
   "metadata": {},
   "source": [
    "I ask my monkey Max to play for me in the casino. He is a terrible greedy creature. Bets the maximum he can, given the limit or money he has left. Want to see how he is doing?"
   ]
  },
  {
   "cell_type": "code",
   "execution_count": null,
   "id": "33c41056",
   "metadata": {},
   "outputs": [],
   "source": [
    "def play_max(number_of_games, initial_amount, total_amount, win_stop_factor, min_bet, max_bet):   \n",
    "    # start number of simulations/games\n",
    "    win_amount_per_game = []\n",
    "    for i in range(number_of_games):\n",
    "        # initialize game values\n",
    "        total_amount_to_bet = total_amount\n",
    "        bet = max_bet\n",
    "        if bet > total_amount_to_bet:\n",
    "            bet = total_amount_to_bet\n",
    "        win_amount = 0\n",
    "        total_amount_to_bet -= bet\n",
    "        # start a game\n",
    "        while (bet > 0) and (total_amount_to_bet <= total_amount * win_stop_factor):\n",
    "            outcome = get_outside_bets()\n",
    "            if outcome: # WIN\n",
    "                total_amount_to_bet += bet*2\n",
    "                \n",
    "            bet = max_bet\n",
    "            if bet > total_amount_to_bet:\n",
    "                bet = total_amount_to_bet\n",
    "            total_amount_to_bet -= bet\n",
    "            \n",
    "        # game result\n",
    "        if total_amount_to_bet > 0:\n",
    "            win_amount = total_amount_to_bet - total_amount\n",
    "        else:\n",
    "            win_amount = -total_amount\n",
    "            \n",
    "        win_amount_per_game.append(win_amount)\n",
    "        \n",
    "    return win_amount_per_game    \n",
    "    "
   ]
  },
  {
   "cell_type": "markdown",
   "id": "eca9de50",
   "metadata": {},
   "source": [
    "And again we overwrite the win average function for Max."
   ]
  },
  {
   "cell_type": "code",
   "execution_count": null,
   "id": "e1f8c324",
   "metadata": {},
   "outputs": [],
   "source": [
    "def get_win_average(number_of_games, initial_amount, total_amount, win_stop_factor, min_bet, max_bet):\n",
    "    win_amounts = play_max(number_of_games, initial_amount, \n",
    "                                total_amount, win_stop_factor, \n",
    "                                min_bet, max_bet)\n",
    "    win_average = sum(win_amounts)/len(win_amounts)\n",
    "    return win_average"
   ]
  },
  {
   "cell_type": "code",
   "execution_count": null,
   "id": "9fb80f2d",
   "metadata": {},
   "outputs": [],
   "source": [
    "# Game Initialization\n",
    "number_of_games = 100\n",
    "initial_amount = 200\n",
    "total_amount = 5000 #USD\n",
    "min_bet = 200\n",
    "max_ratio = 10\n",
    "max_greed = 10"
   ]
  },
  {
   "cell_type": "code",
   "execution_count": null,
   "id": "14618bab",
   "metadata": {},
   "outputs": [],
   "source": [
    "graph_bet_limit_ratio_greed(number_of_games, initial_amount, total_amount, min_bet, max_ratio, max_greed)"
   ]
  },
  {
   "cell_type": "markdown",
   "id": "a21c80b5",
   "metadata": {},
   "source": [
    "Mmm...on the face of it, my greedy monkey Max seem to do a better job than the thought up strategies by the 'experts'!\n",
    "\n",
    "However, the casino manager is still smiling."
   ]
  },
  {
   "cell_type": "markdown",
   "id": "d92e812d",
   "metadata": {},
   "source": [
    "## 3. Face Off\n",
    "\n",
    "Which of these 4 strategies is the best, in terms of least loss or maximum profit, relative to the min/max bet rules and how greedy we are.\n",
    "\n",
    "Let's code a nice table overview, with colored font, to show best (green) / worst (red) outcomes for each strategy."
   ]
  },
  {
   "cell_type": "code",
   "execution_count": null,
   "id": "7e5143f9",
   "metadata": {},
   "outputs": [],
   "source": [
    "# ok, stuff all in the get_win_average...\n",
    "def get_win_average(number_of_games, initial_amount, total_amount, \n",
    "                    win_stop_factor, min_bet, max_bet, strategy):\n",
    "    \n",
    "    if strategy == 'martingale':\n",
    "        win_amounts = play_martingale_bet_limits(number_of_games, initial_amount, \n",
    "                                                 total_amount, win_stop_factor, \n",
    "                                                 min_bet, max_bet)\n",
    "    elif strategy == 'dalembert':\n",
    "        win_amounts = play_D_Alembert_bet_limits(number_of_games, initial_amount, \n",
    "                                                 total_amount, win_stop_factor, \n",
    "                                                 min_bet, max_bet)\n",
    "    elif strategy == 'fibonacci':\n",
    "        win_amounts = play_Fibonacci_bet_limits(number_of_games, initial_amount, \n",
    "                                                 total_amount, win_stop_factor, \n",
    "                                                 min_bet, max_bet)\n",
    "    else: # stategy is max\n",
    "        win_amounts = play_max(number_of_games, initial_amount, \n",
    "                                total_amount, win_stop_factor, \n",
    "                                min_bet, max_bet)\n",
    "    return win_amounts"
   ]
  },
  {
   "cell_type": "code",
   "execution_count": null,
   "id": "80c81524",
   "metadata": {},
   "outputs": [],
   "source": [
    "# just in case you want more stats, do it here\n",
    "def get_win_stats(win_values):\n",
    "    win_average = sum(win_values)/len(win_values)\n",
    "    return win_average"
   ]
  },
  {
   "cell_type": "code",
   "execution_count": null,
   "id": "d4ca3c36",
   "metadata": {},
   "outputs": [],
   "source": [
    "def get_table_values(number_of_games, initial_amount, total_amount, \n",
    "                     min_bet, max_ratio, max_greed, strategy):\n",
    "    l_x_values = []\n",
    "    l_y_values = []\n",
    "    step_ratio = int(max_ratio / 10) #maximum 10 measures for readability\n",
    "    for mg in range(max_greed-1):\n",
    "        x_values = []\n",
    "        y_values = []\n",
    "        win_stop_factor = mg + 2\n",
    "        for i in range(1, max_ratio, step_ratio):\n",
    "            max_bet = min_bet * (i+1)\n",
    "            \n",
    "            x_values.append(i+1)\n",
    "            win_amounts = get_win_average(number_of_games, initial_amount, total_amount, \n",
    "                                          win_stop_factor, min_bet, max_bet, strategy)\n",
    "            win_average = get_win_stats(win_amounts)\n",
    "            y_values.append(win_average)\n",
    "            \n",
    "        l_x_values.append(x_values)\n",
    "        l_y_values.append(y_values)\n",
    "    return l_x_values, l_y_values"
   ]
  },
  {
   "cell_type": "code",
   "execution_count": null,
   "id": "2b0f791f",
   "metadata": {},
   "outputs": [],
   "source": [
    "def get_results_for_each_strategy(number_of_games, initial_amount, total_amount, \n",
    "                                  min_bet, max_ratio, max_greed):\n",
    "    strategies = ['martingale', 'dalembert', 'fibonacci', 'max']\n",
    "    strategies_results = []\n",
    "    # Get values for each strategy\n",
    "    for strategy in strategies:\n",
    "        print(f'playing strategy: {strategy}')\n",
    "        l_x_values, l_y_values = get_table_values(number_of_games, initial_amount, total_amount, \n",
    "                                                  min_bet, max_ratio, max_greed, \n",
    "                                                  strategy)\n",
    "        \n",
    "        strategies_results.append([l_x_values, l_y_values])\n",
    "    print(strategies_results)\n",
    "    return strategies_results"
   ]
  },
  {
   "cell_type": "code",
   "execution_count": null,
   "id": "ae09a591",
   "metadata": {},
   "outputs": [],
   "source": [
    "def find_indices(strategy_wins, max_win):\n",
    "    indices = []\n",
    "    for idx, value in enumerate(strategy_wins):\n",
    "        if value == max_win:\n",
    "            indices.append(idx)\n",
    "    return indices\n",
    "\n",
    "def is_max_win(k, sw, strategy_wins):\n",
    "    is_max = False\n",
    "    max_win = strategy_wins[strategy_wins.index(max(strategy_wins))]\n",
    "    max_idx = find_indices(strategy_wins, max_win)\n",
    "    if k in max_idx:\n",
    "        is_max = True\n",
    "    return is_max\n",
    "\n",
    "def is_min_win(k, sw, strategy_wins):\n",
    "    is_min = False\n",
    "    min_win = strategy_wins[strategy_wins.index(min(strategy_wins))]\n",
    "    min_idx = find_indices(strategy_wins, min_win)\n",
    "    if k in min_idx:\n",
    "        is_min = True\n",
    "    return is_min\n",
    "\n",
    "def print_rows_in_table(k, sw, strategy_wins):\n",
    "    # set end of line for last item\n",
    "    end = '\\n'\n",
    "    if k < 3:\n",
    "        end = ''\n",
    "        \n",
    "    # Mark item green / red for best/worst\n",
    "    if is_max_win(k, sw, strategy_wins):\n",
    "        print(f\"\\x1b[1;32m{sw : ^20}\\x1b[0m\", end=end)\n",
    "    elif is_min_win(k, sw, strategy_wins):\n",
    "        print(f\"\\x1b[1;31m{sw : ^20}\\x1b[0m\", end=end)\n",
    "    else:\n",
    "        print(f\"{sw : ^20}\", end=end)\n",
    "    return\n",
    "\n",
    "def create_strategy_compare_table(strategies_results, min_bet, max_ratio, max_greed):\n",
    "    # Custom table using only f-strings\n",
    "    # BOLD        ('\\033[1m' + text + '\\033[0m')\n",
    "    # RED BOLD    ('\\x1b[1;31m' + text + '\\x1b[0m')\n",
    "    # GREEN BOLD  ('\\x1b[1;32m' + text + '\\x1b[0m')\n",
    "    # YELLOW BOLD ('\\x1b[1;33m' + text + '\\x1b[0m')\n",
    "    # BLUE BOLD   ('\\x1b[1;34m' + text + '\\x1b[0m')\n",
    "    # TABLE HEADER\n",
    "    print(f\"\\x1b[1;34m{'STRATEGY STATISTICS' : ^106}\\x1b[0m\")\n",
    "    print(f\"\\x1b[1;34m{'Minimum Bet /' : ^16}{'Greed' : ^10}{'Strategy Average Win/Loss Amounts' : ^80}\\x1b[0m\")\n",
    "    print(f\"\\x1b[1;34m{'Maximum Bet' : ^16}{'Factor' : ^10}{'Martingale' : ^20}{'D-Alembert' : ^20}{'Fibonacci' : ^20}{'Max' : ^20}\\x1b[0m\")\n",
    "    # Get min/max and greed factors\n",
    "    step_ratio = int(max_ratio / 10)\n",
    "    greed_factors = [mg+2 for mg in range(max_greed-1)]\n",
    "    min_max = [(min_bet, (i+1)*min_bet) for i in range(1, max_ratio, step_ratio)]\n",
    "    # TABLE ROWS\n",
    "    for i, mm in enumerate(min_max):\n",
    "        for j, gf in enumerate(greed_factors):\n",
    "            print(f\"{mm[0] : >6} / {mm[1] : <7}{gf : ^10}\", end='')\n",
    "            # get results for each strategy\n",
    "            win_mar = strategies_results[0][1][j][i]\n",
    "            win_dal = strategies_results[1][1][j][i]\n",
    "            win_fib = strategies_results[2][1][j][i]\n",
    "            win_max = strategies_results[3][1][j][i]\n",
    "            strategy_wins = [win_mar, win_dal, win_fib, win_max]\n",
    "            for k, sw in enumerate(strategy_wins):\n",
    "                print_rows_in_table(k, sw, strategy_wins)\n",
    "            \n",
    "    return"
   ]
  },
  {
   "cell_type": "code",
   "execution_count": null,
   "id": "1a1f4f25",
   "metadata": {},
   "outputs": [],
   "source": [
    "def create_face_off_table(number_of_games, initial_amount, total_amount, min_bet, max_ratio, max_greed):\n",
    "    # get results, average wins for greed factor/ratio min/max amount\n",
    "    strategies_results = get_results_for_each_strategy(number_of_games, initial_amount, \n",
    "                                                       total_amount,\n",
    "                                                       min_bet, max_ratio, max_greed)\n",
    "    # Create table output, using print and format\n",
    "    create_strategy_compare_table(strategies_results, min_bet, max_ratio, max_greed)\n",
    "    return"
   ]
  },
  {
   "cell_type": "code",
   "execution_count": null,
   "id": "b5919dfc",
   "metadata": {},
   "outputs": [],
   "source": [
    "# Game Initialization, play around with this and see what happens, enjoy.\n",
    "number_of_games = 100 # 100\n",
    "initial_amount = 200 # 200\n",
    "total_amount = 5000 # 5000\n",
    "min_bet = 200 # 200\n",
    "max_ratio = 10 # 10\n",
    "max_greed = 5 # 5"
   ]
  },
  {
   "cell_type": "code",
   "execution_count": null,
   "id": "20d784aa",
   "metadata": {},
   "outputs": [],
   "source": [
    "create_face_off_table(number_of_games, initial_amount, total_amount, min_bet, max_ratio, max_greed)"
   ]
  },
  {
   "cell_type": "markdown",
   "id": "8612e712",
   "metadata": {},
   "source": [
    "You can read a table...right?\n",
    "\n",
    "Anyways. Let's try cards, see my notebook on \"decoding Black Jack with python code, including card counting\"."
   ]
  }
 ],
 "metadata": {
  "kernelspec": {
   "display_name": "Python 3",
   "language": "python",
   "name": "python3"
  },
  "language_info": {
   "codemirror_mode": {
    "name": "ipython",
    "version": 3
   },
   "file_extension": ".py",
   "mimetype": "text/x-python",
   "name": "python",
   "nbconvert_exporter": "python",
   "pygments_lexer": "ipython3",
   "version": "3.8.8"
  }
 },
 "nbformat": 4,
 "nbformat_minor": 5
}
